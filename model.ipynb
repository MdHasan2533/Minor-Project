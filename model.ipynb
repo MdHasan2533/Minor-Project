{
 "cells": [
  {
   "cell_type": "code",
   "execution_count": 1,
   "metadata": {},
   "outputs": [],
   "source": [
    "import os\n",
    "import pandas as pd\n",
    "import numpy as np\n",
    "import matplotlib.pyplot as plt\n",
    "import librosa\n",
    "from python_speech_features import mfcc ,logfbank\n",
    "from scipy.io import wavfile\n",
    "import csv\n",
    "from tqdm import tqdm\n",
    "import tensorflow as tf\n",
    "import keras\n",
    "from keras.utils import to_categorical \n",
    "from keras.layers import *\n",
    "from keras.models import  Sequential\n",
    "from sklearn.utils.class_weight import compute_class_weight\n",
    "import pickle\n",
    "from keras.callbacks import ModelCheckpoint\n"
   ]
  },
  {
   "cell_type": "code",
   "execution_count": 3,
   "metadata": {},
   "outputs": [
    {
     "data": {
      "text/html": [
       "<div>\n",
       "<style scoped>\n",
       "    .dataframe tbody tr th:only-of-type {\n",
       "        vertical-align: middle;\n",
       "    }\n",
       "\n",
       "    .dataframe tbody tr th {\n",
       "        vertical-align: top;\n",
       "    }\n",
       "\n",
       "    .dataframe thead th {\n",
       "        text-align: right;\n",
       "    }\n",
       "</style>\n",
       "<table border=\"1\" class=\"dataframe\">\n",
       "  <thead>\n",
       "    <tr style=\"text-align: right;\">\n",
       "      <th></th>\n",
       "      <th>label</th>\n",
       "    </tr>\n",
       "    <tr>\n",
       "      <th>filename</th>\n",
       "      <th></th>\n",
       "    </tr>\n",
       "  </thead>\n",
       "  <tbody>\n",
       "    <tr>\n",
       "      <th>neg-0421-083-cough-m-53-0.wav</th>\n",
       "      <td>healthy</td>\n",
       "    </tr>\n",
       "    <tr>\n",
       "      <th>neg-0421-083-cough-m-53-1.wav</th>\n",
       "      <td>healthy</td>\n",
       "    </tr>\n",
       "    <tr>\n",
       "      <th>neg-0421-083-cough-m-53-10.wav</th>\n",
       "      <td>healthy</td>\n",
       "    </tr>\n",
       "    <tr>\n",
       "      <th>neg-0421-083-cough-m-53-11.wav</th>\n",
       "      <td>healthy</td>\n",
       "    </tr>\n",
       "    <tr>\n",
       "      <th>neg-0421-083-cough-m-53-12.wav</th>\n",
       "      <td>healthy</td>\n",
       "    </tr>\n",
       "    <tr>\n",
       "      <th>...</th>\n",
       "      <td>...</td>\n",
       "    </tr>\n",
       "    <tr>\n",
       "      <th>pos-0422-096-cough-m-31-1.wav</th>\n",
       "      <td>covid</td>\n",
       "    </tr>\n",
       "    <tr>\n",
       "      <th>pos-0422-096-cough-m-31-2.wav</th>\n",
       "      <td>covid</td>\n",
       "    </tr>\n",
       "    <tr>\n",
       "      <th>pos-0422-096-cough-m-31-6.wav</th>\n",
       "      <td>covid</td>\n",
       "    </tr>\n",
       "    <tr>\n",
       "      <th>pos-0422-096-cough-m-31-8.wav</th>\n",
       "      <td>covid</td>\n",
       "    </tr>\n",
       "    <tr>\n",
       "      <th>pos-0422-096-cough-m-31.wav</th>\n",
       "      <td>covid</td>\n",
       "    </tr>\n",
       "  </tbody>\n",
       "</table>\n",
       "<p>137 rows × 1 columns</p>\n",
       "</div>"
      ],
      "text/plain": [
       "                                  label\n",
       "filename                               \n",
       "neg-0421-083-cough-m-53-0.wav   healthy\n",
       "neg-0421-083-cough-m-53-1.wav   healthy\n",
       "neg-0421-083-cough-m-53-10.wav  healthy\n",
       "neg-0421-083-cough-m-53-11.wav  healthy\n",
       "neg-0421-083-cough-m-53-12.wav  healthy\n",
       "...                                 ...\n",
       "pos-0422-096-cough-m-31-1.wav     covid\n",
       "pos-0422-096-cough-m-31-2.wav     covid\n",
       "pos-0422-096-cough-m-31-6.wav     covid\n",
       "pos-0422-096-cough-m-31-8.wav     covid\n",
       "pos-0422-096-cough-m-31.wav       covid\n",
       "\n",
       "[137 rows x 1 columns]"
      ]
     },
     "execution_count": 3,
     "metadata": {},
     "output_type": "execute_result"
    }
   ],
   "source": [
    "df=pd.read_csv('audio_without_pitch.csv')\n",
    "df.set_index('filename',inplace=True)\n",
    "df"
   ]
  },
  {
   "cell_type": "code",
   "execution_count": 4,
   "metadata": {},
   "outputs": [
    {
     "data": {
      "text/plain": [
       "label\n",
       "covid      2.20033\n",
       "healthy    1.88508\n",
       "Name: length, dtype: float64"
      ]
     },
     "execution_count": 4,
     "metadata": {},
     "output_type": "execute_result"
    }
   ],
   "source": [
    "for f in df.index:\n",
    "    rate,signal=wavfile.read('clean/'+ f )\n",
    "    df.at[f,'length']=signal.shape[0]/rate\n",
    "classes=list(np.unique(df.label))\n",
    "class_dist=df.groupby(['label'])['length'].mean()\n",
    "class_dist"
   ]
  },
  {
   "cell_type": "code",
   "execution_count": 5,
   "metadata": {},
   "outputs": [
    {
     "data": {
      "image/png": "[encoded data removed]",
      "text/plain": [
       "<Figure size 640x480 with 1 Axes>"
      ]
     },
     "metadata": {},
     "output_type": "display_data"
    }
   ],
   "source": [
    "fig ,ax=plt.subplots()\n",
    "ax.set_title(\"Class Distribution\",y=1.08)\n",
    "ax.pie(class_dist,labels=class_dist.index,autopct='%1.1f%%',\n",
    "       shadow=False,startangle=90)\n",
    "ax.axis('equal')\n",
    "plt.show()"
   ]
  },
  {
   "cell_type": "code",
   "execution_count": 6,
   "metadata": {},
   "outputs": [
    {
     "data": {
      "text/plain": [
       "5510"
      ]
     },
     "execution_count": 6,
     "metadata": {},
     "output_type": "execute_result"
    }
   ],
   "source": [
    "2*int(df['length'].sum()/.1)"
   ]
  },
  {
   "cell_type": "code",
   "execution_count": 7,
   "metadata": {},
   "outputs": [
    {
     "data": {
      "text/html": [
       "<div>\n",
       "<style scoped>\n",
       "    .dataframe tbody tr th:only-of-type {\n",
       "        vertical-align: middle;\n",
       "    }\n",
       "\n",
       "    .dataframe tbody tr th {\n",
       "        vertical-align: top;\n",
       "    }\n",
       "\n",
       "    .dataframe thead th {\n",
       "        text-align: right;\n",
       "    }\n",
       "</style>\n",
       "<table border=\"1\" class=\"dataframe\">\n",
       "  <thead>\n",
       "    <tr style=\"text-align: right;\">\n",
       "      <th></th>\n",
       "      <th>label</th>\n",
       "      <th>length</th>\n",
       "    </tr>\n",
       "    <tr>\n",
       "      <th>filename</th>\n",
       "      <th></th>\n",
       "      <th></th>\n",
       "    </tr>\n",
       "  </thead>\n",
       "  <tbody>\n",
       "    <tr>\n",
       "      <th>neg-0421-083-cough-m-53-0.wav</th>\n",
       "      <td>healthy</td>\n",
       "      <td>0.398562</td>\n",
       "    </tr>\n",
       "    <tr>\n",
       "      <th>neg-0421-083-cough-m-53-1.wav</th>\n",
       "      <td>healthy</td>\n",
       "      <td>0.465438</td>\n",
       "    </tr>\n",
       "  </tbody>\n",
       "</table>\n",
       "</div>"
      ],
      "text/plain": [
       "                                 label    length\n",
       "filename                                        \n",
       "neg-0421-083-cough-m-53-0.wav  healthy  0.398562\n",
       "neg-0421-083-cough-m-53-1.wav  healthy  0.465438"
      ]
     },
     "execution_count": 7,
     "metadata": {},
     "output_type": "execute_result"
    }
   ],
   "source": [
    "df.head(2)"
   ]
  },
  {
   "cell_type": "code",
   "execution_count": 65,
   "metadata": {},
   "outputs": [],
   "source": [
    "def built_rand_feat():\n",
    "    X=[]\n",
    "    y=[]\n",
    "    _min,_max=float('inf'), -float('inf')\n",
    "    for _ in tqdm(range(n_samples)):\n",
    "        rand_class=np.random.choice(class_dist.index,p=prob_dist)\n",
    "        file=np.random.choice(df[df['label']==rand_class].index)\n",
    "        rate,wav=wavfile.read('clean/' + file )\n",
    "        # label=rand_class\n",
    "        label=df.at[file,'label']\n",
    "        rand_index=np.random.randint(0,wav.shape[0]-config.step)\n",
    "        sample=wav[rand_index:rand_index+config.step]\n",
    "        X_sample=mfcc(sample,rate,numcep=config.nfeat,\n",
    "                      nfilt=config.nfilt,nfft=config.nfft)\n",
    "        _min=min(np.amin(X_sample),_min)\n",
    "        _max=max(np.amax(X_sample),_max)\n",
    "        X.append(X_sample if config.mode=='conv' else x_sample.T)\n",
    "        y.append(classes.index(label))\n",
    "    X,y=np.array(X),np.array(y)\n",
    "    X=(X - _min)/(_max-_min)  # to normalise the data \n",
    "    if config.mode=='conv':\n",
    "        X=X.reshape(X.shape[0],X.shape[1],X.shape[2],1)\n",
    "    elif config.mode==\"time\":\n",
    "        X=X.reshape(X.shape[0],X.shape[1],X.shape[2])\n",
    "    y=to_categorical(y,num_classes=10)\n",
    "    return X,y\n",
    "\n",
    "    \n",
    "        \n",
    "    \n",
    "class Config:\n",
    "    def __init__(self,mode='conv',nfilt=26,nfeat=13,nfft=512,rate=16000):\n",
    "        self.mode=mode\n",
    "        self.rate=rate\n",
    "        self.nfft=nfft\n",
    "        self.nfeat=nfeat\n",
    "        self.nfilt=nfilt\n",
    "        self.step=int(rate/10)\n",
    "    \n",
    "\n"
   ]
  },
  {
   "cell_type": "code",
   "execution_count": 66,
   "metadata": {},
   "outputs": [
    {
     "name": "stdout",
     "output_type": "stream",
     "text": [
      "<class 'str'>\n"
     ]
    },
    {
     "data": {
      "text/plain": [
       "str"
      ]
     },
     "execution_count": 66,
     "metadata": {},
     "output_type": "execute_result"
    }
   ],
   "source": [
    "        \n",
    "n_samples=2* int(df['length'].sum()/.1)\n",
    "prob_dist= class_dist/class_dist.sum()\n",
    "choices=np.random.choice(class_dist.index,p=prob_dist)\n",
    "# print(type(str(choices)))\n",
    "file=np.random.choice(df[df['label']==choices].index)\n",
    "file\n",
    "'clean/'  + os.path.basename(file)\n",
    "type(df.at[file,'label'])"
   ]
  },
  {
   "cell_type": "code",
   "execution_count": 74,
   "metadata": {},
   "outputs": [],
   "source": [
    "def get_conv_model():\n",
    "    model=Sequential()\n",
    "    model.add(Conv2D( 16 ,kernel_size=(3,3),activation=\"relu\",strides=(1,1),\n",
    "                     padding='same',input_shape=input_shape))\n",
    "    model.add(Conv2D( 32 ,kernel_size=(3,3),activation=\"relu\",strides=(1,1),\n",
    "                     padding='same'))\n",
    "    model.add(Conv2D( 64 ,kernel_size=(3,3),activation=\"relu\",strides=(1,1),\n",
    "                     padding='same'))\n",
    "    model.add(Conv2D( 128 ,kernel_size=(3,3),activation=\"relu\",strides=(1,1),\n",
    "                     padding='same'))\n",
    "    model.add(MaxPooling2D((2,2)))\n",
    "    model.add(Dropout(0.5))\n",
    "    model.add(Flatten())\n",
    "    model.add(Dense(128,activation='relu'))\n",
    "    model.add(Dense(64,activation='relu'))\n",
    "    model.add(Dense(10,activation='softmax'))\n",
    "    model.summary()\n",
    "    model.compile( loss='categorical_crossentropy',\n",
    "                  optimizer='adam',\n",
    "                  metrics=['acc'])\n",
    "    return model\n",
    "\n",
    "def get_recurrent_model():\n",
    "    model=Sequential()\n",
    "    model.add(LSTM(128,return_sequences=True,input_shape=input_shape))\n",
    "    model.add(LSTM(128,return_sequences=True))\n",
    "    model.add(Dropout(0.5))\n",
    "    model.add(TimeDistributed(Dense(64,activation='relu')))\n",
    "    model.add(TimeDistributed(Dense(32,activation='relu')))\n",
    "    model.add(TimeDistributed(Dense(16,activation='relu')))\n",
    "    model.add(TimeDistributed(Dense(8,activation='relu')))\n",
    "    model.add(Flatten())\n",
    "    model.add(Dense(10,activation='softmax'))\n",
    "    model.summary()\n",
    "    model.compile( loss='categorical_crossentropy',\n",
    "                  optimizer='adam',\n",
    "                  metrics=['acc'])\n",
    "    return model\n",
    "\n",
    "\n",
    "    "
   ]
  },
  {
   "cell_type": "code",
   "execution_count": 67,
   "metadata": {},
   "outputs": [
    {
     "name": "stderr",
     "output_type": "stream",
     "text": [
      "100%|██████████| 25706/25706 [00:48<00:00, 532.70it/s]\n"
     ]
    }
   ],
   "source": [
    "config=Config(mode='conv')\n",
    "if config.mode=='conv':\n",
    "    X,y=built_rand_feat()\n",
    "    y_flat=np.argmax(y,axis=1)\n",
    "    input_shape=X.shape[1:]\n",
    "    model=get_conv_model()\n",
    "\n",
    "\n",
    "elif config.mode==\"time\":\n",
    "    X,y=built_rand_feat()\n",
    "    y_flat=np.argmax(y,axis=1)\n",
    "    input_shape=X.shape[1:]\n",
    "    model=get_recurrent_model()\n",
    "class_weight=compute_class_weight('balanced',\n",
    "                                  np.unique(y_flat),y_flat)\n",
    "\n"
   ]
  },
  {
   "cell_type": "code",
   "execution_count": null,
   "metadata": {},
   "outputs": [],
   "source": [
    "model.fit(X,y,epochs=10,batch_size=32,\n",
    "          shuffle=True,class_weight=class_weight)"
   ]
  },
  {
   "cell_type": "code",
   "execution_count": 71,
   "metadata": {},
   "outputs": [
    {
     "data": {
      "text/plain": [
       "(9, 13, 1)"
      ]
     },
     "execution_count": 71,
     "metadata": {},
     "output_type": "execute_result"
    }
   ],
   "source": [
    "X.shape[1:]"
   ]
  },
  {
   "cell_type": "code",
   "execution_count": 70,
   "metadata": {},
   "outputs": [
    {
     "data": {
      "text/plain": [
       "array([[0., 0., 0., ..., 0., 0., 0.],\n",
       "       [0., 0., 0., ..., 0., 0., 0.],\n",
       "       [0., 0., 0., ..., 0., 0., 0.],\n",
       "       ...,\n",
       "       [0., 0., 0., ..., 0., 0., 0.],\n",
       "       [1., 0., 0., ..., 0., 0., 0.],\n",
       "       [1., 0., 0., ..., 0., 0., 0.]], dtype=float32)"
      ]
     },
     "execution_count": 70,
     "metadata": {},
     "output_type": "execute_result"
    }
   ],
   "source": [
    "y"
   ]
  },
  {
   "cell_type": "code",
   "execution_count": 95,
   "metadata": {},
   "outputs": [],
   "source": [
    "from keras.models import load_model\n",
    "from scipy.io import wavfile\n",
    "from python_speech_features import mfcc ,logfbank\n",
    "from sklearn.metrics import accuracy_score\n",
    "import os\n",
    "import numpy as np\n",
    "import pandas as pd\n",
    "from tqdm import tqdm"
   ]
  },
  {
   "cell_type": "code",
   "execution_count": 123,
   "metadata": {},
   "outputs": [
    {
     "data": {
      "text/plain": [
       "1"
      ]
     },
     "execution_count": 123,
     "metadata": {},
     "output_type": "execute_result"
    }
   ],
   "source": [
    "for i in y_true:\n",
    "    arr=np.zeros(10)\n",
    "    for x in range(10):\n",
    "        if i == x:\n",
    "            arr[i]+=1\n",
    "np.argmax(arr)\n",
    "\n",
    "\n",
    "\n",
    "    pass\n",
    "len(y_true)\n",
    "arr[1]=9\n"
   ]
  },
  {
   "cell_type": "code",
   "execution_count": 131,
   "metadata": {},
   "outputs": [
    {
     "data": {
      "text/plain": [
       "300"
      ]
     },
     "execution_count": 131,
     "metadata": {},
     "output_type": "execute_result"
    }
   ],
   "source": [
    "len(os.listdir(audio_dir))"
   ]
  },
  {
   "cell_type": "code",
   "execution_count": 167,
   "metadata": {},
   "outputs": [],
   "source": [
    "\n",
    "def make_prediction(audio_dir='clean/'):\n",
    "\n",
    "    y_true=[]\n",
    "    y_pred=[]\n",
    "    fn_prob={}\n",
    "    a=0\n",
    "    print('Extracting features from audio')\n",
    "    for fn in tqdm(os.listdir(audio_dir)):\n",
    "        rate, wav=wavfile.read(os.path.join(audio_dir,fn))\n",
    "        label=fn2class[fn]\n",
    "        c=classes.index(label)\n",
    "        y_prob=[]\n",
    "        for i in range(0,wav.shape[0]-config.step,config.step):\n",
    "            sample=wav[i : i+ config.step]\n",
    "            x=mfcc(sample,rate,numcep=config.nfeat,\n",
    "                    nfilt=config.nfilt,nfft=config.nfft)\n",
    "            x = (x-config.min)/(config.max-config.min)\n",
    "\n",
    "            if config.mode=='conv':\n",
    "                x=x.reshape(1,x.shape[0],x.shape[1],1)\n",
    "            elif config.mode=='time':\n",
    "                x=x.reshape(1,x.shape[0],x.shape[1])\n",
    "                # x=np.expand_dims(x,axis=0)\n",
    "            y_hat=model.predict(x)\n",
    "            y_prob.append(y_hat)\n",
    "            # y_pred.append(np.argmax(y_hat))\n",
    "        y_true.append(c)\n",
    "\n",
    "        fn_prob[fn]=np.mean(y_prob,axis=0).flatten()\n",
    "        y_pred.append(np.argmax(fn_prob[fn]))\n",
    "\n",
    "        # a+=1\n",
    "        # if a==50:\n",
    "        #     break\n",
    "        \n",
    "    return y_true,y_pred,fn_prob "
   ]
  },
  {
   "cell_type": "code",
   "execution_count": 157,
   "metadata": {},
   "outputs": [
    {
     "data": {
      "text/plain": [
       "{'0356dec7.wav': 'Acoustic_guitar',\n",
       " '0eeaebcb.wav': 'Acoustic_guitar',\n",
       " '10da16fb.wav': 'Acoustic_guitar',\n",
       " '160c92d7.wav': 'Acoustic_guitar',\n",
       " '16c9a838.wav': 'Acoustic_guitar',\n",
       " '17f82c05.wav': 'Acoustic_guitar',\n",
       " '2016d256.wav': 'Acoustic_guitar',\n",
       " '236cbab1.wav': 'Acoustic_guitar',\n",
       " '32dee61b.wav': 'Acoustic_guitar',\n",
       " '34747922.wav': 'Acoustic_guitar',\n",
       " '35039ae1.wav': 'Acoustic_guitar',\n",
       " '367ad7b1.wav': 'Acoustic_guitar',\n",
       " '38216fad.wav': 'Acoustic_guitar',\n",
       " '44fb3eeb.wav': 'Acoustic_guitar',\n",
       " '55822aae.wav': 'Acoustic_guitar',\n",
       " '673defaf.wav': 'Acoustic_guitar',\n",
       " '70ca9c77.wav': 'Acoustic_guitar',\n",
       " '7506dcc4.wav': 'Acoustic_guitar',\n",
       " '8da75280.wav': 'Acoustic_guitar',\n",
       " '9923ddf8.wav': 'Acoustic_guitar',\n",
       " 'a25423a8.wav': 'Acoustic_guitar',\n",
       " 'a6728901.wav': 'Acoustic_guitar',\n",
       " 'b2261238.wav': 'Acoustic_guitar',\n",
       " 'b88322f6.wav': 'Acoustic_guitar',\n",
       " 'bb1f5874.wav': 'Acoustic_guitar',\n",
       " 'c7846d27.wav': 'Acoustic_guitar',\n",
       " 'd8a257e5.wav': 'Acoustic_guitar',\n",
       " 'e92bf0fa.wav': 'Acoustic_guitar',\n",
       " 'fa4d4a92.wav': 'Acoustic_guitar',\n",
       " 'fc55d588.wav': 'Acoustic_guitar',\n",
       " '01c2f88b.wav': 'Bass_drum',\n",
       " '03fc1f96.wav': 'Bass_drum',\n",
       " '0ddb4bdf.wav': 'Bass_drum',\n",
       " '3a9085ca.wav': 'Bass_drum',\n",
       " '4ba2b70e.wav': 'Bass_drum',\n",
       " '52e54bdd.wav': 'Bass_drum',\n",
       " '565f3ee2.wav': 'Bass_drum',\n",
       " '63e0ab2c.wav': 'Bass_drum',\n",
       " '6a96272b.wav': 'Bass_drum',\n",
       " '6d21ad67.wav': 'Bass_drum',\n",
       " '7d11b3b4.wav': 'Bass_drum',\n",
       " '7dda9dc2.wav': 'Bass_drum',\n",
       " '809ea09e.wav': 'Bass_drum',\n",
       " '88780eac.wav': 'Bass_drum',\n",
       " '8b6a16de.wav': 'Bass_drum',\n",
       " '921eee9d.wav': 'Bass_drum',\n",
       " '9a4bfb69.wav': 'Bass_drum',\n",
       " '9adffd44.wav': 'Bass_drum',\n",
       " 'aa9ae956.wav': 'Bass_drum',\n",
       " 'bab98261.wav': 'Bass_drum',\n",
       " 'bea51ca5.wav': 'Bass_drum',\n",
       " 'c11bacda.wav': 'Bass_drum',\n",
       " 'c153f347.wav': 'Bass_drum',\n",
       " 'ca3f3698.wav': 'Bass_drum',\n",
       " 'cdfc8967.wav': 'Bass_drum',\n",
       " 'ce3f3400.wav': 'Bass_drum',\n",
       " 'ce75b5ce.wav': 'Bass_drum',\n",
       " 'f26131d8.wav': 'Bass_drum',\n",
       " 'f8a99b37.wav': 'Bass_drum',\n",
       " 'ff11628d.wav': 'Bass_drum',\n",
       " '00353774.wav': 'Cello',\n",
       " '0091fc7f.wav': 'Cello',\n",
       " '125e6ccf.wav': 'Cello',\n",
       " '195f544d.wav': 'Cello',\n",
       " '22bea889.wav': 'Cello',\n",
       " '238b16a5.wav': 'Cello',\n",
       " '2da9e12a.wav': 'Cello',\n",
       " '31dbc5c0.wav': 'Cello',\n",
       " '34e4d187.wav': 'Cello',\n",
       " '3e2bddda.wav': 'Cello',\n",
       " '4bff8f32.wav': 'Cello',\n",
       " '5689818f.wav': 'Cello',\n",
       " '5e5bca7a.wav': 'Cello',\n",
       " '6a210ffa.wav': 'Cello',\n",
       " '743ae0f9.wav': 'Cello',\n",
       " '7d896090.wav': 'Cello',\n",
       " '811bf309.wav': 'Cello',\n",
       " '81d9f077.wav': 'Cello',\n",
       " '88500b88.wav': 'Cello',\n",
       " '9e3bc1b6.wav': 'Cello',\n",
       " 'a59b5a08.wav': 'Cello',\n",
       " 'ab8e8ae3.wav': 'Cello',\n",
       " 'cbc8d551.wav': 'Cello',\n",
       " 'd328db67.wav': 'Cello',\n",
       " 'dc5be9d7.wav': 'Cello',\n",
       " 'e2d993ec.wav': 'Cello',\n",
       " 'e55c5160.wav': 'Cello',\n",
       " 'e70c41d4.wav': 'Cello',\n",
       " 'e97d9707.wav': 'Cello',\n",
       " 'f9653de8.wav': 'Cello',\n",
       " '19105b8a.wav': 'Clarinet',\n",
       " '1f81cc2b.wav': 'Clarinet',\n",
       " '2e1cd085.wav': 'Clarinet',\n",
       " '2fc00271.wav': 'Clarinet',\n",
       " '3c66098d.wav': 'Clarinet',\n",
       " '3c713bcf.wav': 'Clarinet',\n",
       " '3cbe9902.wav': 'Clarinet',\n",
       " '3f7e6da8.wav': 'Clarinet',\n",
       " '44c5094c.wav': 'Clarinet',\n",
       " '45de3233.wav': 'Clarinet',\n",
       " '5506629f.wav': 'Clarinet',\n",
       " '5de123c3.wav': 'Clarinet',\n",
       " '71c6451f.wav': 'Clarinet',\n",
       " '740e5bb7.wav': 'Clarinet',\n",
       " '7eb959ec.wav': 'Clarinet',\n",
       " '800b401e.wav': 'Clarinet',\n",
       " '8916ffcd.wav': 'Clarinet',\n",
       " '8ee44fb5.wav': 'Clarinet',\n",
       " '9a722e53.wav': 'Clarinet',\n",
       " 'a053797b.wav': 'Clarinet',\n",
       " 'a64a3740.wav': 'Clarinet',\n",
       " 'ad42e493.wav': 'Clarinet',\n",
       " 'ad7ec8cb.wav': 'Clarinet',\n",
       " 'b0c06255.wav': 'Clarinet',\n",
       " 'ce65d6b5.wav': 'Clarinet',\n",
       " 'dc981a38.wav': 'Clarinet',\n",
       " 'ddf23920.wav': 'Clarinet',\n",
       " 'e43f7db2.wav': 'Clarinet',\n",
       " 'e51e1770.wav': 'Clarinet',\n",
       " 'f2310f0d.wav': 'Clarinet',\n",
       " '0286fc27.wav': 'Double_bass',\n",
       " '103f29e5.wav': 'Double_bass',\n",
       " '13da16ae.wav': 'Double_bass',\n",
       " '19893aa8.wav': 'Double_bass',\n",
       " '1a7d3f2d.wav': 'Double_bass',\n",
       " '2ac8b94f.wav': 'Double_bass',\n",
       " '444f9db5.wav': 'Double_bass',\n",
       " '462b676f.wav': 'Double_bass',\n",
       " '4fb480bf.wav': 'Double_bass',\n",
       " '4fd883bb.wav': 'Double_bass',\n",
       " '595c191d.wav': 'Double_bass',\n",
       " '5eadbc6d.wav': 'Double_bass',\n",
       " '642ad7e4.wav': 'Double_bass',\n",
       " '6efbaf90.wav': 'Double_bass',\n",
       " '8073923c.wav': 'Double_bass',\n",
       " '8ce2e863.wav': 'Double_bass',\n",
       " '95e1d0ae.wav': 'Double_bass',\n",
       " '9dd0141c.wav': 'Double_bass',\n",
       " 'a0cbe92e.wav': 'Double_bass',\n",
       " 'b428466c.wav': 'Double_bass',\n",
       " 'c0ddf010.wav': 'Double_bass',\n",
       " 'c840804f.wav': 'Double_bass',\n",
       " 'ca348cbb.wav': 'Double_bass',\n",
       " 'da8ea649.wav': 'Double_bass',\n",
       " 'deb87700.wav': 'Double_bass',\n",
       " 'e0ecd1a6.wav': 'Double_bass',\n",
       " 'e6597186.wav': 'Double_bass',\n",
       " 'f042282c.wav': 'Double_bass',\n",
       " 'f63f3703.wav': 'Double_bass',\n",
       " 'fcfafbc8.wav': 'Double_bass',\n",
       " '07db7f16.wav': 'Flute',\n",
       " '18865530.wav': 'Flute',\n",
       " '1b93aeba.wav': 'Flute',\n",
       " '35e97db3.wav': 'Flute',\n",
       " '3707da71.wav': 'Flute',\n",
       " '3eaddda8.wav': 'Flute',\n",
       " '4bcc8a77.wav': 'Flute',\n",
       " '55d52a69.wav': 'Flute',\n",
       " '562d93f5.wav': 'Flute',\n",
       " '5d040c3b.wav': 'Flute',\n",
       " '5d73ee6f.wav': 'Flute',\n",
       " '61c914b1.wav': 'Flute',\n",
       " '6a037ddf.wav': 'Flute',\n",
       " '6b27a847.wav': 'Flute',\n",
       " '6ef82473.wav': 'Flute',\n",
       " '84f5b84b.wav': 'Flute',\n",
       " '85d6a7d2.wav': 'Flute',\n",
       " '8986cced.wav': 'Flute',\n",
       " '9f522cda.wav': 'Flute',\n",
       " '9f6eac9c.wav': 'Flute',\n",
       " 'af227d6f.wav': 'Flute',\n",
       " 'b0d9849d.wav': 'Flute',\n",
       " 'b4b2b68d.wav': 'Flute',\n",
       " 'c683f28f.wav': 'Flute',\n",
       " 'ca8653d2.wav': 'Flute',\n",
       " 'd14f5df1.wav': 'Flute',\n",
       " 'dc6676ff.wav': 'Flute',\n",
       " 'f5e20dce.wav': 'Flute',\n",
       " 'fa32109e.wav': 'Flute',\n",
       " 'fe76c972.wav': 'Flute',\n",
       " '06c48eab.wav': 'Hi_hat',\n",
       " '078f7ac0.wav': 'Hi_hat',\n",
       " '09a1cfd7.wav': 'Hi_hat',\n",
       " '0ed06544.wav': 'Hi_hat',\n",
       " '2032be87.wav': 'Hi_hat',\n",
       " '2503aaa1.wav': 'Hi_hat',\n",
       " '34a90030.wav': 'Hi_hat',\n",
       " '3a3d0279.wav': 'Hi_hat',\n",
       " '3aafb6ad.wav': 'Hi_hat',\n",
       " '3d3439f1.wav': 'Hi_hat',\n",
       " '41897c32.wav': 'Hi_hat',\n",
       " '468f9c4c.wav': 'Hi_hat',\n",
       " '493c247b.wav': 'Hi_hat',\n",
       " '52300f9b.wav': 'Hi_hat',\n",
       " '5ec7ad26.wav': 'Hi_hat',\n",
       " '612702c3.wav': 'Hi_hat',\n",
       " '73677128.wav': 'Hi_hat',\n",
       " '8cd809d3.wav': 'Hi_hat',\n",
       " '99c96a07.wav': 'Hi_hat',\n",
       " 'a090c45a.wav': 'Hi_hat',\n",
       " 'a1b369d7.wav': 'Hi_hat',\n",
       " 'a7964699.wav': 'Hi_hat',\n",
       " 'aed9d22f.wav': 'Hi_hat',\n",
       " 'b31ed1fb.wav': 'Hi_hat',\n",
       " 'c53a217e.wav': 'Hi_hat',\n",
       " 'd6854eb4.wav': 'Hi_hat',\n",
       " 'da3f8050.wav': 'Hi_hat',\n",
       " 'da4b0379.wav': 'Hi_hat',\n",
       " 'e897db78.wav': 'Hi_hat',\n",
       " 'f0dfe343.wav': 'Hi_hat',\n",
       " '25f26095.wav': 'Saxophone',\n",
       " '2f9c5f62.wav': 'Saxophone',\n",
       " '36d20ab5.wav': 'Saxophone',\n",
       " '37cebbd4.wav': 'Saxophone',\n",
       " '3a80061f.wav': 'Saxophone',\n",
       " '4345851e.wav': 'Saxophone',\n",
       " '5388d14d.wav': 'Saxophone',\n",
       " '5d4f8187.wav': 'Saxophone',\n",
       " '5f0dc8e4.wav': 'Saxophone',\n",
       " '7352e28f.wav': 'Saxophone',\n",
       " '78a86075.wav': 'Saxophone',\n",
       " '8fa096bf.wav': 'Saxophone',\n",
       " '96dad435.wav': 'Saxophone',\n",
       " '9c0838c1.wav': 'Saxophone',\n",
       " '9cd05a2b.wav': 'Saxophone',\n",
       " 'ab465bf9.wav': 'Saxophone',\n",
       " 'ac097834.wav': 'Saxophone',\n",
       " 'b120dc90.wav': 'Saxophone',\n",
       " 'b83049f4.wav': 'Saxophone',\n",
       " 'b8c0a88a.wav': 'Saxophone',\n",
       " 'c1948f24.wav': 'Saxophone',\n",
       " 'c1c3c8b9.wav': 'Saxophone',\n",
       " 'c40632d7.wav': 'Saxophone',\n",
       " 'c685f05f.wav': 'Saxophone',\n",
       " 'd6665734.wav': 'Saxophone',\n",
       " 'd94c94f0.wav': 'Saxophone',\n",
       " 'dba6817d.wav': 'Saxophone',\n",
       " 'ec6afeb6.wav': 'Saxophone',\n",
       " 'f0d315bc.wav': 'Saxophone',\n",
       " 'f8d96888.wav': 'Saxophone',\n",
       " '0c67f402.wav': 'Snare_drum',\n",
       " '1bc8eae1.wav': 'Snare_drum',\n",
       " '1c9a423f.wav': 'Snare_drum',\n",
       " '1e3391d5.wav': 'Snare_drum',\n",
       " '229be2be.wav': 'Snare_drum',\n",
       " '22e1c02c.wav': 'Snare_drum',\n",
       " '31db8c5e.wav': 'Snare_drum',\n",
       " '36d06cc0.wav': 'Snare_drum',\n",
       " '46b52f97.wav': 'Snare_drum',\n",
       " '4c4d4797.wav': 'Snare_drum',\n",
       " '4c590f69.wav': 'Snare_drum',\n",
       " '5c33d972.wav': 'Snare_drum',\n",
       " '5ce40b1b.wav': 'Snare_drum',\n",
       " '6fca680b.wav': 'Snare_drum',\n",
       " '82d4fb44.wav': 'Snare_drum',\n",
       " '9320c55f.wav': 'Snare_drum',\n",
       " '9d308738.wav': 'Snare_drum',\n",
       " '9f84ea5a.wav': 'Snare_drum',\n",
       " 'ae7d1c37.wav': 'Snare_drum',\n",
       " 'b218444c.wav': 'Snare_drum',\n",
       " 'b68f10af.wav': 'Snare_drum',\n",
       " 'b6cbc6a9.wav': 'Snare_drum',\n",
       " 'b86b5a96.wav': 'Snare_drum',\n",
       " 'c8ecbbfd.wav': 'Snare_drum',\n",
       " 'cae0d841.wav': 'Snare_drum',\n",
       " 'e4958adc.wav': 'Snare_drum',\n",
       " 'e8e00924.wav': 'Snare_drum',\n",
       " 'f0727eac.wav': 'Snare_drum',\n",
       " 'f1754aea.wav': 'Snare_drum',\n",
       " 'ff3f21e7.wav': 'Snare_drum',\n",
       " '0e7cd4eb.wav': 'Violin_or_fiddle',\n",
       " '1148986e.wav': 'Violin_or_fiddle',\n",
       " '1b24c166.wav': 'Violin_or_fiddle',\n",
       " '21346775.wav': 'Violin_or_fiddle',\n",
       " '2424ad60.wav': 'Violin_or_fiddle',\n",
       " '2cc8683d.wav': 'Violin_or_fiddle',\n",
       " '2e4a9850.wav': 'Violin_or_fiddle',\n",
       " '56e79c6f.wav': 'Violin_or_fiddle',\n",
       " '642aba58.wav': 'Violin_or_fiddle',\n",
       " '68589f79.wav': 'Violin_or_fiddle',\n",
       " '6eb59008.wav': 'Violin_or_fiddle',\n",
       " '7b6a119e.wav': 'Violin_or_fiddle',\n",
       " '7eb9dac0.wav': 'Violin_or_fiddle',\n",
       " '848faca3.wav': 'Violin_or_fiddle',\n",
       " '8d7d7dba.wav': 'Violin_or_fiddle',\n",
       " 'aab28420.wav': 'Violin_or_fiddle',\n",
       " 'b38409bb.wav': 'Violin_or_fiddle',\n",
       " 'b73c3595.wav': 'Violin_or_fiddle',\n",
       " 'ba648ac1.wav': 'Violin_or_fiddle',\n",
       " 'c6865306.wav': 'Violin_or_fiddle',\n",
       " 'c8c117dc.wav': 'Violin_or_fiddle',\n",
       " 'c9fb642d.wav': 'Violin_or_fiddle',\n",
       " 'cdc5fe8e.wav': 'Violin_or_fiddle',\n",
       " 'cdeece57.wav': 'Violin_or_fiddle',\n",
       " 'cfb9c5fd.wav': 'Violin_or_fiddle',\n",
       " 'd6144e01.wav': 'Violin_or_fiddle',\n",
       " 'd84c8c43.wav': 'Violin_or_fiddle',\n",
       " 'd914225a.wav': 'Violin_or_fiddle',\n",
       " 'e3f479f3.wav': 'Violin_or_fiddle',\n",
       " 'fec00143.wav': 'Violin_or_fiddle'}"
      ]
     },
     "execution_count": 157,
     "metadata": {},
     "output_type": "execute_result"
    }
   ],
   "source": [
    "df=pd.read_csv('instrument.csv')\n",
    "classes=list(np.unique(df.label))\n",
    "# x=(zip((df.filename),df.label))\n",
    "fn2class={}\n",
    "for i,row in df.iterrows():\n",
    "    fn2class[os.path.basename(row[0])]=row[1]\n",
    "fn2class"
   ]
  },
  {
   "cell_type": "code",
   "execution_count": 168,
   "metadata": {},
   "outputs": [
    {
     "data": {
      "text/html": [
       "<div>\n",
       "<style scoped>\n",
       "    .dataframe tbody tr th:only-of-type {\n",
       "        vertical-align: middle;\n",
       "    }\n",
       "\n",
       "    .dataframe tbody tr th {\n",
       "        vertical-align: top;\n",
       "    }\n",
       "\n",
       "    .dataframe thead th {\n",
       "        text-align: right;\n",
       "    }\n",
       "</style>\n",
       "<table border=\"1\" class=\"dataframe\">\n",
       "  <thead>\n",
       "    <tr style=\"text-align: right;\">\n",
       "      <th></th>\n",
       "      <th>filename</th>\n",
       "      <th>label</th>\n",
       "      <th>Acoustic_guitar</th>\n",
       "      <th>Bass_drum</th>\n",
       "      <th>Cello</th>\n",
       "      <th>Clarinet</th>\n",
       "      <th>Double_bass</th>\n",
       "      <th>Flute</th>\n",
       "      <th>Hi_hat</th>\n",
       "      <th>Saxophone</th>\n",
       "      <th>Snare_drum</th>\n",
       "      <th>Violin_or_fiddle</th>\n",
       "      <th>y_pred_class</th>\n",
       "    </tr>\n",
       "  </thead>\n",
       "  <tbody>\n",
       "    <tr>\n",
       "      <th>0</th>\n",
       "      <td>wavfiles/Acoustic_guitar/0356dec7.wav</td>\n",
       "      <td>Acoustic_guitar</td>\n",
       "      <td>8.899302e-01</td>\n",
       "      <td>5.556477e-04</td>\n",
       "      <td>1.618010e-02</td>\n",
       "      <td>0.000300</td>\n",
       "      <td>1.352708e-03</td>\n",
       "      <td>4.725361e-03</td>\n",
       "      <td>3.124779e-04</td>\n",
       "      <td>5.042328e-02</td>\n",
       "      <td>7.288141e-03</td>\n",
       "      <td>0.028932</td>\n",
       "      <td>Acoustic_guitar</td>\n",
       "    </tr>\n",
       "    <tr>\n",
       "      <th>1</th>\n",
       "      <td>wavfiles/Acoustic_guitar/0eeaebcb.wav</td>\n",
       "      <td>Acoustic_guitar</td>\n",
       "      <td>9.849235e-01</td>\n",
       "      <td>1.749233e-07</td>\n",
       "      <td>5.828631e-04</td>\n",
       "      <td>0.000024</td>\n",
       "      <td>1.783660e-03</td>\n",
       "      <td>1.246008e-02</td>\n",
       "      <td>5.072363e-08</td>\n",
       "      <td>2.152654e-04</td>\n",
       "      <td>3.659999e-07</td>\n",
       "      <td>0.000010</td>\n",
       "      <td>Acoustic_guitar</td>\n",
       "    </tr>\n",
       "    <tr>\n",
       "      <th>2</th>\n",
       "      <td>wavfiles/Acoustic_guitar/10da16fb.wav</td>\n",
       "      <td>Acoustic_guitar</td>\n",
       "      <td>9.965799e-01</td>\n",
       "      <td>3.957040e-09</td>\n",
       "      <td>2.865327e-04</td>\n",
       "      <td>0.000717</td>\n",
       "      <td>1.130232e-05</td>\n",
       "      <td>6.363651e-04</td>\n",
       "      <td>2.413874e-06</td>\n",
       "      <td>7.372082e-04</td>\n",
       "      <td>1.468713e-05</td>\n",
       "      <td>0.001014</td>\n",
       "      <td>Acoustic_guitar</td>\n",
       "    </tr>\n",
       "    <tr>\n",
       "      <th>3</th>\n",
       "      <td>wavfiles/Acoustic_guitar/160c92d7.wav</td>\n",
       "      <td>Acoustic_guitar</td>\n",
       "      <td>9.922186e-01</td>\n",
       "      <td>2.348783e-10</td>\n",
       "      <td>2.000818e-04</td>\n",
       "      <td>0.000012</td>\n",
       "      <td>1.661550e-05</td>\n",
       "      <td>1.476320e-03</td>\n",
       "      <td>5.688047e-08</td>\n",
       "      <td>9.604976e-06</td>\n",
       "      <td>1.035927e-06</td>\n",
       "      <td>0.006066</td>\n",
       "      <td>Acoustic_guitar</td>\n",
       "    </tr>\n",
       "    <tr>\n",
       "      <th>4</th>\n",
       "      <td>wavfiles/Acoustic_guitar/16c9a838.wav</td>\n",
       "      <td>Acoustic_guitar</td>\n",
       "      <td>9.526749e-01</td>\n",
       "      <td>5.661145e-09</td>\n",
       "      <td>5.468120e-03</td>\n",
       "      <td>0.032382</td>\n",
       "      <td>7.257993e-06</td>\n",
       "      <td>1.900795e-03</td>\n",
       "      <td>1.198067e-10</td>\n",
       "      <td>3.421866e-04</td>\n",
       "      <td>4.577920e-07</td>\n",
       "      <td>0.007225</td>\n",
       "      <td>Acoustic_guitar</td>\n",
       "    </tr>\n",
       "    <tr>\n",
       "      <th>...</th>\n",
       "      <td>...</td>\n",
       "      <td>...</td>\n",
       "      <td>...</td>\n",
       "      <td>...</td>\n",
       "      <td>...</td>\n",
       "      <td>...</td>\n",
       "      <td>...</td>\n",
       "      <td>...</td>\n",
       "      <td>...</td>\n",
       "      <td>...</td>\n",
       "      <td>...</td>\n",
       "      <td>...</td>\n",
       "      <td>...</td>\n",
       "    </tr>\n",
       "    <tr>\n",
       "      <th>295</th>\n",
       "      <td>wavfiles/Violin_or_fiddle/d6144e01.wav</td>\n",
       "      <td>Violin_or_fiddle</td>\n",
       "      <td>1.155699e-10</td>\n",
       "      <td>9.222989e-18</td>\n",
       "      <td>3.182252e-11</td>\n",
       "      <td>0.000010</td>\n",
       "      <td>8.605647e-12</td>\n",
       "      <td>8.361421e-12</td>\n",
       "      <td>2.915936e-17</td>\n",
       "      <td>1.132541e-09</td>\n",
       "      <td>9.005035e-14</td>\n",
       "      <td>0.999990</td>\n",
       "      <td>Violin_or_fiddle</td>\n",
       "    </tr>\n",
       "    <tr>\n",
       "      <th>296</th>\n",
       "      <td>wavfiles/Violin_or_fiddle/d84c8c43.wav</td>\n",
       "      <td>Violin_or_fiddle</td>\n",
       "      <td>1.650122e-03</td>\n",
       "      <td>2.399089e-03</td>\n",
       "      <td>2.256621e-02</td>\n",
       "      <td>0.004926</td>\n",
       "      <td>1.319285e-02</td>\n",
       "      <td>5.866803e-04</td>\n",
       "      <td>1.510119e-05</td>\n",
       "      <td>3.340733e-04</td>\n",
       "      <td>6.845315e-04</td>\n",
       "      <td>0.953645</td>\n",
       "      <td>Violin_or_fiddle</td>\n",
       "    </tr>\n",
       "    <tr>\n",
       "      <th>297</th>\n",
       "      <td>wavfiles/Violin_or_fiddle/d914225a.wav</td>\n",
       "      <td>Violin_or_fiddle</td>\n",
       "      <td>1.639364e-03</td>\n",
       "      <td>1.295783e-06</td>\n",
       "      <td>1.544574e-02</td>\n",
       "      <td>0.014150</td>\n",
       "      <td>1.302915e-02</td>\n",
       "      <td>3.417498e-04</td>\n",
       "      <td>5.456144e-07</td>\n",
       "      <td>7.836477e-04</td>\n",
       "      <td>7.680559e-04</td>\n",
       "      <td>0.953841</td>\n",
       "      <td>Violin_or_fiddle</td>\n",
       "    </tr>\n",
       "    <tr>\n",
       "      <th>298</th>\n",
       "      <td>wavfiles/Violin_or_fiddle/e3f479f3.wav</td>\n",
       "      <td>Violin_or_fiddle</td>\n",
       "      <td>8.222368e-04</td>\n",
       "      <td>1.349039e-07</td>\n",
       "      <td>4.108805e-02</td>\n",
       "      <td>0.000761</td>\n",
       "      <td>3.449939e-08</td>\n",
       "      <td>2.155112e-03</td>\n",
       "      <td>2.139528e-03</td>\n",
       "      <td>5.314303e-03</td>\n",
       "      <td>3.393009e-07</td>\n",
       "      <td>0.947720</td>\n",
       "      <td>Violin_or_fiddle</td>\n",
       "    </tr>\n",
       "    <tr>\n",
       "      <th>299</th>\n",
       "      <td>wavfiles/Violin_or_fiddle/fec00143.wav</td>\n",
       "      <td>Violin_or_fiddle</td>\n",
       "      <td>9.412059e-06</td>\n",
       "      <td>9.270446e-08</td>\n",
       "      <td>5.801198e-05</td>\n",
       "      <td>0.000304</td>\n",
       "      <td>1.837827e-06</td>\n",
       "      <td>8.476878e-03</td>\n",
       "      <td>6.901680e-06</td>\n",
       "      <td>9.853159e-05</td>\n",
       "      <td>5.381737e-07</td>\n",
       "      <td>0.991044</td>\n",
       "      <td>Violin_or_fiddle</td>\n",
       "    </tr>\n",
       "  </tbody>\n",
       "</table>\n",
       "<p>300 rows × 13 columns</p>\n",
       "</div>"
      ],
      "text/plain": [
       "                                   filename             label  \\\n",
       "0     wavfiles/Acoustic_guitar/0356dec7.wav   Acoustic_guitar   \n",
       "1     wavfiles/Acoustic_guitar/0eeaebcb.wav   Acoustic_guitar   \n",
       "2     wavfiles/Acoustic_guitar/10da16fb.wav   Acoustic_guitar   \n",
       "3     wavfiles/Acoustic_guitar/160c92d7.wav   Acoustic_guitar   \n",
       "4     wavfiles/Acoustic_guitar/16c9a838.wav   Acoustic_guitar   \n",
       "..                                      ...               ...   \n",
       "295  wavfiles/Violin_or_fiddle/d6144e01.wav  Violin_or_fiddle   \n",
       "296  wavfiles/Violin_or_fiddle/d84c8c43.wav  Violin_or_fiddle   \n",
       "297  wavfiles/Violin_or_fiddle/d914225a.wav  Violin_or_fiddle   \n",
       "298  wavfiles/Violin_or_fiddle/e3f479f3.wav  Violin_or_fiddle   \n",
       "299  wavfiles/Violin_or_fiddle/fec00143.wav  Violin_or_fiddle   \n",
       "\n",
       "     Acoustic_guitar     Bass_drum         Cello  Clarinet   Double_bass  \\\n",
       "0       8.899302e-01  5.556477e-04  1.618010e-02  0.000300  1.352708e-03   \n",
       "1       9.849235e-01  1.749233e-07  5.828631e-04  0.000024  1.783660e-03   \n",
       "2       9.965799e-01  3.957040e-09  2.865327e-04  0.000717  1.130232e-05   \n",
       "3       9.922186e-01  2.348783e-10  2.000818e-04  0.000012  1.661550e-05   \n",
       "4       9.526749e-01  5.661145e-09  5.468120e-03  0.032382  7.257993e-06   \n",
       "..               ...           ...           ...       ...           ...   \n",
       "295     1.155699e-10  9.222989e-18  3.182252e-11  0.000010  8.605647e-12   \n",
       "296     1.650122e-03  2.399089e-03  2.256621e-02  0.004926  1.319285e-02   \n",
       "297     1.639364e-03  1.295783e-06  1.544574e-02  0.014150  1.302915e-02   \n",
       "298     8.222368e-04  1.349039e-07  4.108805e-02  0.000761  3.449939e-08   \n",
       "299     9.412059e-06  9.270446e-08  5.801198e-05  0.000304  1.837827e-06   \n",
       "\n",
       "            Flute        Hi_hat     Saxophone    Snare_drum  Violin_or_fiddle  \\\n",
       "0    4.725361e-03  3.124779e-04  5.042328e-02  7.288141e-03          0.028932   \n",
       "1    1.246008e-02  5.072363e-08  2.152654e-04  3.659999e-07          0.000010   \n",
       "2    6.363651e-04  2.413874e-06  7.372082e-04  1.468713e-05          0.001014   \n",
       "3    1.476320e-03  5.688047e-08  9.604976e-06  1.035927e-06          0.006066   \n",
       "4    1.900795e-03  1.198067e-10  3.421866e-04  4.577920e-07          0.007225   \n",
       "..            ...           ...           ...           ...               ...   \n",
       "295  8.361421e-12  2.915936e-17  1.132541e-09  9.005035e-14          0.999990   \n",
       "296  5.866803e-04  1.510119e-05  3.340733e-04  6.845315e-04          0.953645   \n",
       "297  3.417498e-04  5.456144e-07  7.836477e-04  7.680559e-04          0.953841   \n",
       "298  2.155112e-03  2.139528e-03  5.314303e-03  3.393009e-07          0.947720   \n",
       "299  8.476878e-03  6.901680e-06  9.853159e-05  5.381737e-07          0.991044   \n",
       "\n",
       "         y_pred_class  \n",
       "0     Acoustic_guitar  \n",
       "1     Acoustic_guitar  \n",
       "2     Acoustic_guitar  \n",
       "3     Acoustic_guitar  \n",
       "4     Acoustic_guitar  \n",
       "..                ...  \n",
       "295  Violin_or_fiddle  \n",
       "296  Violin_or_fiddle  \n",
       "297  Violin_or_fiddle  \n",
       "298  Violin_or_fiddle  \n",
       "299  Violin_or_fiddle  \n",
       "\n",
       "[300 rows x 13 columns]"
      ]
     },
     "execution_count": 168,
     "metadata": {},
     "output_type": "execute_result"
    }
   ],
   "source": [
    "# df2=df.copy()\n",
    "df2"
   ]
  },
  {
   "cell_type": "code",
   "execution_count": 1,
   "metadata": {},
   "outputs": [],
   "source": [
    "# p_path=os.path.join('pickles','conv.p')\n",
    "# with open(p_path,'rb') as handle:\n",
    "#     config = pickle.load(handle)\n",
    "# model=load_model(config.model_path)\n",
    "# y_true,y_pred,fn_prob=make_prediction('clean/')\n",
    "# acc_score=accuracy_score(y_true=y_true,y_pred=y_pred)\n",
    "# # y_probs=[]\n",
    "# # for i,row in df2.iterrows():\n",
    "# #     y_prob=fn_prob[os.path.basename(row.filename)]\n",
    "# #     y_probs.append(y_prob)\n",
    "# #     for c,p in zip(classes,y_prob):\n",
    "# #         df2.at[i,c]=p\n",
    "\n",
    "# # y_pred_class=[classes[np.argmax(y)] for y in y_probs]\n",
    "# # df2['y_pred_class']=y_pred_class\n",
    "# # df2.to_csv('predictions.csv',index=False)"
   ]
  },
  {
   "cell_type": "code",
   "execution_count": 172,
   "metadata": {},
   "outputs": [
    {
     "data": {
      "text/plain": [
       "1.0"
      ]
     },
     "execution_count": 172,
     "metadata": {},
     "output_type": "execute_result"
    }
   ],
   "source": [
    "accuracy_score(y_true=y_true,y_pred=y_pred)"
   ]
  },
  {
   "cell_type": "code",
   "execution_count": 104,
   "metadata": {},
   "outputs": [],
   "source": [
    "from sklearn.metrics import roc_curve, auc,roc_auc_score, confusion_matrix\n",
    "from sklearn.metrics import classification_report\n",
    "import matplotlib.pyplot as plt\n",
    "import seaborn as sns"
   ]
  },
  {
   "cell_type": "code",
   "execution_count": 106,
   "metadata": {},
   "outputs": [
    {
     "data": {
      "text/plain": [
       "['Acoustic_guitar',\n",
       " 'Bass_drum',\n",
       " 'Cello',\n",
       " 'Clarinet',\n",
       " 'Double_bass',\n",
       " 'Flute',\n",
       " 'Hi_hat',\n",
       " 'Saxophone',\n",
       " 'Snare_drum',\n",
       " 'Violin_or_fiddle']"
      ]
     },
     "execution_count": 106,
     "metadata": {},
     "output_type": "execute_result"
    }
   ],
   "source": [
    "classes\n"
   ]
  },
  {
   "cell_type": "code",
   "execution_count": 173,
   "metadata": {},
   "outputs": [
    {
     "data": {
      "image/png": "[encoded data removed]",
      "text/plain": [
       "<Figure size 500x500 with 2 Axes>"
      ]
     },
     "metadata": {},
     "output_type": "display_data"
    },
    {
     "name": "stdout",
     "output_type": "stream",
     "text": [
      "Classification Report\n",
      "              precision    recall  f1-score   support\n",
      "\n",
      "           0       1.00      1.00      1.00        30\n",
      "           1       1.00      1.00      1.00        30\n",
      "           2       1.00      1.00      1.00        30\n",
      "           3       1.00      1.00      1.00        30\n",
      "           4       1.00      1.00      1.00        30\n",
      "           5       1.00      1.00      1.00        30\n",
      "           6       1.00      1.00      1.00        30\n",
      "           7       1.00      1.00      1.00        30\n",
      "           8       1.00      1.00      1.00        30\n",
      "           9       1.00      1.00      1.00        30\n",
      "\n",
      "    accuracy                           1.00       300\n",
      "   macro avg       1.00      1.00      1.00       300\n",
      "weighted avg       1.00      1.00      1.00       300\n",
      "\n"
     ]
    }
   ],
   "source": [
    "def plot_actual_vs_predicted(y_true,y_pred,title,grafik='yüzde',cmp='cividis'):\n",
    "    cm = confusion_matrix(y_true,y_pred)\n",
    "    cm=cm.astype(np.double)\n",
    "    #cm=cm/np.sum(cm)\n",
    "\n",
    "    plt.figure(figsize=(5,5))\n",
    "    if (grafik=='yüzde'):\n",
    "      cm=(np.round(cm / cm.sum(axis=1),4))#*100\n",
    "      sns.heatmap(cm,annot=True,fmt='.2%',xticklabels=classes,yticklabels=classes) #fmt='g',\n",
    "    else:\n",
    "      sns.heatmap(cm,annot=True,fmt='g',xticklabels=classes,yticklabels=classes)\n",
    "    plt.title(title)\n",
    "    plt.show()\n",
    "    print(\"Classification Report\")\n",
    "    print(classification_report(y_true,y_pred))\n",
    "plot_actual_vs_predicted(y_true,y_pred,\"Test Data Predictions\",'normal')"
   ]
  },
  {
   "cell_type": "code",
   "execution_count": 140,
   "metadata": {},
   "outputs": [
    {
     "data": {
      "text/plain": [
       "0.26666666666666666"
      ]
     },
     "execution_count": 140,
     "metadata": {},
     "output_type": "execute_result"
    }
   ],
   "source": [
    "accuracy_score(y_true=y_true,y_pred=y_pred)"
   ]
  },
  {
   "cell_type": "code",
   "execution_count": 143,
   "metadata": {},
   "outputs": [],
   "source": [
    "n_scores = np.array([\n",
    "        [93, 72, 75, 51, 83],\n",
    "        [94, 53, 57, 56, 48],\n",
    "        [91, 77, 82, 91, 76],\n",
    "        [97, 56, 82, 33, 74],\n",
    "        [94, 76, 72, 63, 76],\n",
    "        [97, 56, 49, 53, 42],\n",
    "        [91, 93, 90, 88, 96],\n",
    "       [91, 56, 77, 74, 74],\n",
    " ])"
   ]
  },
  {
   "cell_type": "code",
   "execution_count": 148,
   "metadata": {},
   "outputs": [
    {
     "data": {
      "text/plain": [
       "array([93.5  , 67.375, 73.   , 63.625, 71.125])"
      ]
     },
     "execution_count": 148,
     "metadata": {},
     "output_type": "execute_result"
    }
   ],
   "source": [
    "np.mean(n_scores,axis=0).flatten()"
   ]
  },
  {
   "cell_type": "code",
   "execution_count": 2,
   "metadata": {},
   "outputs": [
    {
     "name": "stdout",
     "output_type": "stream",
     "text": [
      "Loading existing data for conv2 model\n",
      "Model: \"sequential\"\n",
      "_________________________________________________________________\n",
      " Layer (type)                Output Shape              Param #   \n",
      "=================================================================\n",
      " conv2d (Conv2D)             (None, 9, 13, 16)         160       \n",
      "                                                                 \n",
      " conv2d_1 (Conv2D)           (None, 9, 13, 32)         4640      \n",
      "                                                                 \n",
      " conv2d_2 (Conv2D)           (None, 9, 13, 64)         18496     \n",
      "                                                                 \n",
      " conv2d_3 (Conv2D)           (None, 9, 13, 128)        73856     \n",
      "                                                                 \n",
      " max_pooling2d (MaxPooling2  (None, 4, 6, 128)         0         \n",
      " D)                                                              \n",
      "                                                                 \n",
      " dropout (Dropout)           (None, 4, 6, 128)         0         \n",
      "                                                                 \n",
      " flatten (Flatten)           (None, 3072)              0         \n",
      "                                                                 \n",
      " dense (Dense)               (None, 128)               393344    \n",
      "                                                                 \n",
      " dense_1 (Dense)             (None, 64)                8256      \n",
      "                                                                 \n",
      " dense_2 (Dense)             (None, 32)                2080      \n",
      "                                                                 \n",
      " dense_3 (Dense)             (None, 16)                528       \n",
      "                                                                 \n",
      " dense_4 (Dense)             (None, 8)                 136       \n",
      "                                                                 \n",
      " dense_5 (Dense)             (None, 2)                 18        \n",
      "                                                                 \n",
      "=================================================================\n",
      "Total params: 501514 (1.91 MB)\n",
      "Trainable params: 501514 (1.91 MB)\n",
      "Non-trainable params: 0 (0.00 Byte)\n",
      "_________________________________________________________________\n",
      "WARNING:tensorflow:`period` argument is deprecated. Please use `save_freq` to specify the frequency in number of batches seen.\n",
      "Epoch 1/20\n",
      "231/232 [============================>.] - ETA: 0s - loss: 0.5891 - acc: 0.6698\n",
      "Epoch 1: val_acc improved from -inf to 0.77616, saving model to models\\conv2.model\n",
      "INFO:tensorflow:Assets written to: models\\conv2.model\\assets\n"
     ]
    },
    {
     "name": "stderr",
     "output_type": "stream",
     "text": [
      "INFO:tensorflow:Assets written to: models\\conv2.model\\assets\n"
     ]
    },
    {
     "name": "stdout",
     "output_type": "stream",
     "text": [
      "232/232 [==============================] - 10s 36ms/step - loss: 0.5890 - acc: 0.6698 - val_loss: 0.4382 - val_acc: 0.7762\n",
      "Epoch 2/20\n",
      "231/232 [============================>.] - ETA: 0s - loss: 0.3902 - acc: 0.8159\n",
      "Epoch 2: val_acc improved from 0.77616 to 0.87348, saving model to models\\conv2.model\n",
      "INFO:tensorflow:Assets written to: models\\conv2.model\\assets\n"
     ]
    },
    {
     "name": "stderr",
     "output_type": "stream",
     "text": [
      "INFO:tensorflow:Assets written to: models\\conv2.model\\assets\n"
     ]
    },
    {
     "name": "stdout",
     "output_type": "stream",
     "text": [
      "232/232 [==============================] - 8s 35ms/step - loss: 0.3902 - acc: 0.8159 - val_loss: 0.2975 - val_acc: 0.8735\n",
      "Epoch 3/20\n",
      "231/232 [============================>.] - ETA: 0s - loss: 0.2861 - acc: 0.8785\n",
      "Epoch 3: val_acc did not improve from 0.87348\n",
      "232/232 [==============================] - 7s 31ms/step - loss: 0.2861 - acc: 0.8785 - val_loss: 0.2787 - val_acc: 0.8710\n",
      "Epoch 4/20\n",
      "231/232 [============================>.] - ETA: 0s - loss: 0.2197 - acc: 0.9117\n",
      "Epoch 4: val_acc improved from 0.87348 to 0.91971, saving model to models\\conv2.model\n",
      "INFO:tensorflow:Assets written to: models\\conv2.model\\assets\n"
     ]
    },
    {
     "name": "stderr",
     "output_type": "stream",
     "text": [
      "INFO:tensorflow:Assets written to: models\\conv2.model\\assets\n"
     ]
    },
    {
     "name": "stdout",
     "output_type": "stream",
     "text": [
      "232/232 [==============================] - 8s 33ms/step - loss: 0.2196 - acc: 0.9117 - val_loss: 0.2103 - val_acc: 0.9197\n",
      "Epoch 5/20\n",
      "231/232 [============================>.] - ETA: 0s - loss: 0.1752 - acc: 0.9333\n",
      "Epoch 5: val_acc improved from 0.91971 to 0.93066, saving model to models\\conv2.model\n",
      "INFO:tensorflow:Assets written to: models\\conv2.model\\assets\n"
     ]
    },
    {
     "name": "stderr",
     "output_type": "stream",
     "text": [
      "INFO:tensorflow:Assets written to: models\\conv2.model\\assets\n"
     ]
    },
    {
     "name": "stdout",
     "output_type": "stream",
     "text": [
      "232/232 [==============================] - 8s 33ms/step - loss: 0.1751 - acc: 0.9334 - val_loss: 0.1833 - val_acc: 0.9307\n",
      "Epoch 6/20\n",
      "231/232 [============================>.] - ETA: 0s - loss: 0.1499 - acc: 0.9463\n",
      "Epoch 6: val_acc improved from 0.93066 to 0.93917, saving model to models\\conv2.model\n",
      "INFO:tensorflow:Assets written to: models\\conv2.model\\assets\n"
     ]
    },
    {
     "name": "stderr",
     "output_type": "stream",
     "text": [
      "INFO:tensorflow:Assets written to: models\\conv2.model\\assets\n"
     ]
    },
    {
     "name": "stdout",
     "output_type": "stream",
     "text": [
      "232/232 [==============================] - 8s 33ms/step - loss: 0.1498 - acc: 0.9463 - val_loss: 0.1704 - val_acc: 0.9392\n",
      "Epoch 7/20\n",
      "230/232 [============================>.] - ETA: 0s - loss: 0.1320 - acc: 0.9497\n",
      "Epoch 7: val_acc improved from 0.93917 to 0.95134, saving model to models\\conv2.model\n",
      "INFO:tensorflow:Assets written to: models\\conv2.model\\assets\n"
     ]
    },
    {
     "name": "stderr",
     "output_type": "stream",
     "text": [
      "INFO:tensorflow:Assets written to: models\\conv2.model\\assets\n"
     ]
    },
    {
     "name": "stdout",
     "output_type": "stream",
     "text": [
      "232/232 [==============================] - 8s 33ms/step - loss: 0.1320 - acc: 0.9497 - val_loss: 0.1395 - val_acc: 0.9513\n",
      "Epoch 8/20\n",
      "230/232 [============================>.] - ETA: 0s - loss: 0.1075 - acc: 0.9614\n",
      "Epoch 8: val_acc improved from 0.95134 to 0.96594, saving model to models\\conv2.model\n",
      "INFO:tensorflow:Assets written to: models\\conv2.model\\assets\n"
     ]
    },
    {
     "name": "stderr",
     "output_type": "stream",
     "text": [
      "INFO:tensorflow:Assets written to: models\\conv2.model\\assets\n"
     ]
    },
    {
     "name": "stdout",
     "output_type": "stream",
     "text": [
      "232/232 [==============================] - 8s 33ms/step - loss: 0.1077 - acc: 0.9612 - val_loss: 0.1125 - val_acc: 0.9659\n",
      "Epoch 9/20\n",
      "230/232 [============================>.] - ETA: 0s - loss: 0.1015 - acc: 0.9660\n",
      "Epoch 9: val_acc did not improve from 0.96594\n",
      "232/232 [==============================] - 7s 30ms/step - loss: 0.1016 - acc: 0.9659 - val_loss: 0.1235 - val_acc: 0.9647\n",
      "Epoch 10/20\n",
      "231/232 [============================>.] - ETA: 0s - loss: 0.0780 - acc: 0.9727\n",
      "Epoch 10: val_acc improved from 0.96594 to 0.97080, saving model to models\\conv2.model\n",
      "INFO:tensorflow:Assets written to: models\\conv2.model\\assets\n"
     ]
    },
    {
     "name": "stderr",
     "output_type": "stream",
     "text": [
      "INFO:tensorflow:Assets written to: models\\conv2.model\\assets\n"
     ]
    },
    {
     "name": "stdout",
     "output_type": "stream",
     "text": [
      "232/232 [==============================] - 8s 35ms/step - loss: 0.0779 - acc: 0.9727 - val_loss: 0.1132 - val_acc: 0.9708\n",
      "Epoch 11/20\n",
      "231/232 [============================>.] - ETA: 0s - loss: 0.0811 - acc: 0.9728\n",
      "Epoch 11: val_acc did not improve from 0.97080\n",
      "232/232 [==============================] - 6s 27ms/step - loss: 0.0811 - acc: 0.9728 - val_loss: 0.1146 - val_acc: 0.9696\n",
      "Epoch 12/20\n",
      "230/232 [============================>.] - ETA: 0s - loss: 0.0668 - acc: 0.9776\n",
      "Epoch 12: val_acc improved from 0.97080 to 0.97324, saving model to models\\conv2.model\n",
      "INFO:tensorflow:Assets written to: models\\conv2.model\\assets\n"
     ]
    },
    {
     "name": "stderr",
     "output_type": "stream",
     "text": [
      "INFO:tensorflow:Assets written to: models\\conv2.model\\assets\n"
     ]
    },
    {
     "name": "stdout",
     "output_type": "stream",
     "text": [
      "232/232 [==============================] - 8s 33ms/step - loss: 0.0667 - acc: 0.9777 - val_loss: 0.0992 - val_acc: 0.9732\n",
      "Epoch 13/20\n",
      "231/232 [============================>.] - ETA: 0s - loss: 0.0598 - acc: 0.9788\n",
      "Epoch 13: val_acc did not improve from 0.97324\n",
      "232/232 [==============================] - 6s 28ms/step - loss: 0.0598 - acc: 0.9788 - val_loss: 0.1063 - val_acc: 0.9696\n",
      "Epoch 14/20\n",
      "231/232 [============================>.] - ETA: 0s - loss: 0.0605 - acc: 0.9785\n",
      "Epoch 14: val_acc did not improve from 0.97324\n",
      "232/232 [==============================] - 6s 28ms/step - loss: 0.0605 - acc: 0.9785 - val_loss: 0.1397 - val_acc: 0.9720\n",
      "Epoch 15/20\n",
      "230/232 [============================>.] - ETA: 0s - loss: 0.0514 - acc: 0.9819\n",
      "Epoch 15: val_acc improved from 0.97324 to 0.97689, saving model to models\\conv2.model\n",
      "INFO:tensorflow:Assets written to: models\\conv2.model\\assets\n"
     ]
    },
    {
     "name": "stderr",
     "output_type": "stream",
     "text": [
      "INFO:tensorflow:Assets written to: models\\conv2.model\\assets\n"
     ]
    },
    {
     "name": "stdout",
     "output_type": "stream",
     "text": [
      "232/232 [==============================] - 8s 33ms/step - loss: 0.0512 - acc: 0.9820 - val_loss: 0.1332 - val_acc: 0.9769\n",
      "Epoch 16/20\n",
      "230/232 [============================>.] - ETA: 0s - loss: 0.0465 - acc: 0.9837\n",
      "Epoch 16: val_acc improved from 0.97689 to 0.98054, saving model to models\\conv2.model\n",
      "INFO:tensorflow:Assets written to: models\\conv2.model\\assets\n"
     ]
    },
    {
     "name": "stderr",
     "output_type": "stream",
     "text": [
      "INFO:tensorflow:Assets written to: models\\conv2.model\\assets\n"
     ]
    },
    {
     "name": "stdout",
     "output_type": "stream",
     "text": [
      "232/232 [==============================] - 7s 32ms/step - loss: 0.0467 - acc: 0.9835 - val_loss: 0.0995 - val_acc: 0.9805\n",
      "Epoch 17/20\n",
      "231/232 [============================>.] - ETA: 0s - loss: 0.0383 - acc: 0.9873\n",
      "Epoch 17: val_acc did not improve from 0.98054\n",
      "232/232 [==============================] - 7s 28ms/step - loss: 0.0383 - acc: 0.9873 - val_loss: 0.1173 - val_acc: 0.9781\n",
      "Epoch 18/20\n",
      "231/232 [============================>.] - ETA: 0s - loss: 0.0467 - acc: 0.9831\n",
      "Epoch 18: val_acc did not improve from 0.98054\n",
      "232/232 [==============================] - 7s 29ms/step - loss: 0.0467 - acc: 0.9831 - val_loss: 0.0978 - val_acc: 0.9805\n",
      "Epoch 19/20\n",
      "231/232 [============================>.] - ETA: 0s - loss: 0.0482 - acc: 0.9832\n",
      "Epoch 19: val_acc did not improve from 0.98054\n",
      "232/232 [==============================] - 6s 28ms/step - loss: 0.0481 - acc: 0.9832 - val_loss: 0.1256 - val_acc: 0.9793\n",
      "Epoch 20/20\n",
      "231/232 [============================>.] - ETA: 0s - loss: 0.0364 - acc: 0.9867\n",
      "Epoch 20: val_acc did not improve from 0.98054\n",
      "232/232 [==============================] - 6s 28ms/step - loss: 0.0364 - acc: 0.9868 - val_loss: 0.1103 - val_acc: 0.9720\n",
      "INFO:tensorflow:Assets written to: models\\conv2.model\\assets\n"
     ]
    },
    {
     "name": "stderr",
     "output_type": "stream",
     "text": [
      "INFO:tensorflow:Assets written to: models\\conv2.model\\assets\n"
     ]
    }
   ],
   "source": [
    "\n",
    "\n",
    "\n",
    "\n",
    "import os\n",
    "import pandas as pd\n",
    "import numpy as np\n",
    "import matplotlib.pyplot as plt\n",
    "import librosa\n",
    "from python_speech_features import mfcc ,logfbank\n",
    "from scipy.io import wavfile\n",
    "import csv\n",
    "from tqdm import tqdm\n",
    "import tensorflow as tf\n",
    "import keras\n",
    "from keras.utils import to_categorical \n",
    "from keras.layers import *\n",
    "from keras.models import  Sequential\n",
    "from sklearn.utils.class_weight import compute_class_weight\n",
    "import pickle\n",
    "from keras.callbacks import ModelCheckpoint\n",
    "from cfg import Config\n",
    "from sklearn.model_selection import train_test_split\n",
    "from keras.callbacks import History\n",
    "\n",
    "\n",
    "def check_data():\n",
    "    if os.path.isfile(config.p_path):\n",
    "        print('Loading existing data for {} model'.format(config.mode))\n",
    "        with open(config.p_path,'rb') as f:\n",
    "            tmp=pickle.load(f)\n",
    "            return tmp\n",
    "    else:\n",
    "        return None\n",
    "\n",
    "def built_rand_feat():\n",
    "    tmp=check_data()\n",
    "    if tmp:\n",
    "        return tmp.data[0],tmp.data[1]\n",
    "    X=[]\n",
    "    y=[]\n",
    "    _min,_max=float('inf'), -float('inf')\n",
    "    for _ in tqdm(range(n_samples)):\n",
    "        rand_class=np.random.choice(class_dist.index,p=prob_dist)\n",
    "        file=np.random.choice(df[df['label']==rand_class].index)\n",
    "        rate,wav=wavfile.read('clean/' + file)\n",
    "        # label=rand_class\n",
    "        label=df.at[file,'label']\n",
    "        rand_index=np.random.randint(0,wav.shape[0]-config.step)\n",
    "        sample=wav[rand_index:rand_index+config.step]\n",
    "        X_sample=mfcc(sample,rate,numcep=config.nfeat,\n",
    "                      nfilt=config.nfilt,nfft=config.nfft)\n",
    "        _min=min(np.amin(X_sample),_min)\n",
    "        _max=max(np.amax(X_sample),_max)\n",
    "        # X.append(X_sample if config.mode=='conv' else x_sample.T)\n",
    "        X.append(X_sample)\n",
    "        y.append(classes.index(label))\n",
    "    config.min=_min\n",
    "    config.max=_max\n",
    "    X,y=np.array(X),np.array(y)\n",
    "    X=(X - _min)/(_max-_min)  # to normalise the data \n",
    "\n",
    "    if config.mode=='conv2':\n",
    "        X=X.reshape(X.shape[0],X.shape[1],X.shape[2],1)\n",
    "    elif config.mode==\"time\":\n",
    "        X=X.reshape(X.shape[0],X.shape[1],X.shape[2])\n",
    "\n",
    "    y=to_categorical(y,num_classes=2)\n",
    "\n",
    "    config.data=(X,y)\n",
    "    with open(config.p_path,'wb') as f:\n",
    "        pickle.dump(config,f,protocol=2)\n",
    "\n",
    "    return X,y\n",
    "\n",
    "\n",
    "\n",
    "def get_conv_model():\n",
    "    model=Sequential()\n",
    "    model.add(Conv2D( 16 ,kernel_size=(3,3),activation=\"relu\",strides=(1,1),\n",
    "                     padding='same',input_shape=input_shape))\n",
    "    model.add(Conv2D( 32 ,kernel_size=(3,3),activation=\"relu\",strides=(1,1),\n",
    "                     padding='same'))\n",
    "    model.add(Conv2D( 64 ,kernel_size=(3,3),activation=\"relu\",strides=(1,1),\n",
    "                     padding='same'))\n",
    "    model.add(Conv2D( 128 ,kernel_size=(3,3),activation=\"relu\",strides=(1,1),\n",
    "                     padding='same'))\n",
    "    model.add(MaxPooling2D((2,2)))\n",
    "    model.add(Dropout(0.5))\n",
    "    model.add(Flatten())\n",
    "    model.add(Dense(128,activation='relu'))\n",
    "    model.add(Dense(64,activation='relu'))\n",
    "    model.add(Dense(32,activation='relu'))\n",
    "    model.add(Dense(16,activation='relu'))\n",
    "    model.add(Dense(8,activation='relu'))\n",
    "    model.add(Dense(2,activation='sigmoid'))\n",
    "    model.summary()\n",
    "    model.compile( loss='binary_crossentropy',\n",
    "                  optimizer='adam',\n",
    "                  metrics=['acc'])\n",
    "    return model\n",
    "\n",
    "def get_recurrent_model():\n",
    "    model=Sequential()\n",
    "    model.add(LSTM(128,return_sequences=True,input_shape=input_shape))\n",
    "    model.add(LSTM(128,return_sequences=True))\n",
    "    model.add(Dropout(0.5))\n",
    "    model.add(TimeDistributed(Dense(64,activation='relu')))\n",
    "    model.add(TimeDistributed(Dense(32,activation='relu')))\n",
    "    model.add(TimeDistributed(Dense(16,activation='relu')))\n",
    "    model.add(TimeDistributed(Dense(8,activation='relu')))\n",
    "    model.add(Flatten())\n",
    "    model.add(Dense(32,activation='relu'))\n",
    "    model.add(Dense(16,activation='relu'))\n",
    "    model.add(Dense(8,activation='relu'))\n",
    "    model.add(Dense(2,activation='sigmoid'))\n",
    "    model.summary()\n",
    "    model.compile( loss='binary_crossentropy',\n",
    "                  optimizer='adam',\n",
    "                  metrics=['acc'])\n",
    "    return model\n",
    "\n",
    "\n",
    "\n",
    "df=pd.read_csv('audio_without_pitch.csv')\n",
    "\n",
    "y=df['label']\n",
    "x=df.drop('label',axis=1)\n",
    "x_train, x_test, y_train, y_test = train_test_split(x, y, test_size=0.2, random_state=42, stratify=y)\n",
    "train=pd.concat( [x_train,y_train],axis=1,)\n",
    "train.reset_index(drop=True,inplace=True)\n",
    "\n",
    "df=train\n",
    "\n",
    "\n",
    "df.set_index('filename',inplace=True)\n",
    "\n",
    "for f in df.index:\n",
    "    rate,signal=wavfile.read('clean/'+f)\n",
    "    df.at[f,'length']=signal.shape[0]/rate\n",
    "classes=list(np.unique(df.label))\n",
    "class_dist=df.groupby(['label'])['length'].mean()\n",
    "\n",
    "n_samples=4* int(df['length'].sum()/.1)\n",
    "prob_dist= class_dist/class_dist.sum()\n",
    "choices=np.random.choice(class_dist.index,p=prob_dist)\n",
    "\n",
    "# fig ,ax=plt.subplots()\n",
    "# ax.set_title(\"Class Distribution\",y=1.08)\n",
    "# ax.pie(class_dist,labels=class_dist.index,autopct='%1.1f%%',\n",
    "#        shadow=False,startangle=90)\n",
    "# ax.axis('equal')\n",
    "# plt.show()\n",
    "\n",
    "\n",
    "\n",
    "\n",
    "config=Config(mode='conv2')\n",
    "\n",
    "if config.mode=='conv2':\n",
    "    X,y=built_rand_feat()\n",
    "    y_flat=np.argmax(y,axis=1)\n",
    "    input_shape=X.shape[1:]\n",
    "    model=get_conv_model()\n",
    "\n",
    "\n",
    "elif config.mode==\"time\":\n",
    "    X,y=built_rand_feat()\n",
    "    y_flat=np.argmax(y,axis=1)\n",
    "    input_shape=X.shape[1:]\n",
    "    model=get_recurrent_model()\n",
    "\n",
    "# class_weight=compute_class_weight('balanced',\n",
    "#                                   classes=np.unique(y_flat),y=y_flat)\n",
    "# class_weight=class_weight,\n",
    "checkpoint=ModelCheckpoint(config.model_path,monitor='val_acc',verbose=1,mode='max',\n",
    "                            save_best_only=True,save_weights_only=False,period=1)\n",
    "\n",
    "\n",
    "\n",
    "history=model.fit(X,y,epochs=20,batch_size=32,\n",
    "          shuffle=True,validation_split=0.1,callbacks=[checkpoint])\n",
    "model.save(config.model_path)\n",
    "\n"
   ]
  },
  {
   "cell_type": "code",
   "execution_count": 4,
   "metadata": {},
   "outputs": [
    {
     "name": "stdout",
     "output_type": "stream",
     "text": [
      "\u001b[1;31mType:\u001b[0m        dict\n",
      "\u001b[1;31mString form:\u001b[0m {'loss': [0.625825047492981, 0.4125039577484131, 0.2878332734107971, 0.22186149656772614, 0.16769742965698242, 0.14133617281913757, 0.12106539309024811, 0.09848316013813019, 0.07666505873203278, 0.0765685886144638, 0.05899969860911369, 0.04841036722064018, 0.048151545226573944, 0.046616826206445694, 0.04536428675055504, 0.035823699086904526, 0.033931322395801544, 0.04329978674650192, 0.02551237680017948, 0.03187805041670799], 'acc': [0.62016761302948, 0.8053528070449829, 0.8825358152389526, 0.9118680953979492, 0.9359286427497864, 0.9455258250236511, 0.956204354763031, 0.9637739658355713, 0.9733712077140808, 0.9743173718452454, 0.9797242283821106, 0.9829683899879456, 0.9829683899879456, 0.9833738803863525, 0.9848607778549194, 0.9882400631904602, 0.9885104298591614, 0.9845904111862183, 0.991213858127594, 0.9893214106559753], 'val_loss': [0.5059665441513062, 0.3231266140937805, 0.27244383096694946, 0.18968245387077332, 0.19605912268161774, 0.17728351056575775, 0.13350625336170197, 0.1343047171831131, 0.11945908516645432, 0.12317947298288345, 0.1052049770951271, 0.09915650635957718, 0.1005316898226738, 0.10331832617521286, 0.11208857595920563, 0.09506528079509735, 0.12355844676494598, 0.10844872146844864, 0.10142996162176132, 0.11453024297952652], 'val_acc': [0.7372262477874756, 0.8625304102897644, 0.8759124279022217, 0.9148418307304382, 0.9318735003471375, 0.9416058659553528, 0.9525547623634338, 0.9586374759674072, 0.9622871279716492, 0.9647201895713806, 0.9732360243797302, 0.9720194935798645, 0.970802903175354, 0.9720194935798645, 0.9683698415756226, 0.9768856167793274, 0.9695863723754883, 0.974452555179596, 0.9732360243797302, 0.970802903175354]}\n",
      "\u001b[1;31mLength:\u001b[0m      4\n",
      "\u001b[1;31mDocstring:\u001b[0m  \n",
      "dict() -> new empty dictionary\n",
      "dict(mapping) -> new dictionary initialized from a mapping object's\n",
      "    (key, value) pairs\n",
      "dict(iterable) -> new dictionary initialized as if via:\n",
      "    d = {}\n",
      "    for k, v in iterable:\n",
      "        d[k] = v\n",
      "dict(**kwargs) -> new dictionary initialized with the name=value pairs\n",
      "    in the keyword argument list.  For example:  dict(one=1, two=2)"
     ]
    }
   ],
   "source": [
    "history.history??"
   ]
  },
  {
   "cell_type": "code",
   "execution_count": 12,
   "metadata": {},
   "outputs": [
    {
     "data": {
      "text/plain": [
       "dict_keys(['loss', 'acc', 'val_loss', 'val_acc'])"
      ]
     },
     "execution_count": 12,
     "metadata": {},
     "output_type": "execute_result"
    }
   ],
   "source": [
    "history.history.keys()"
   ]
  },
  {
   "cell_type": "code",
   "execution_count": 3,
   "metadata": {},
   "outputs": [
    {
     "data": {
      "image/png": "[encoded data removed]",
      "text/plain": [
       "<Figure size 640x480 with 1 Axes>"
      ]
     },
     "metadata": {},
     "output_type": "display_data"
    }
   ],
   "source": [
    "import matplotlib.pyplot as plt\n",
    "plt.plot(history.history['loss'])\n",
    "plt.plot(history.history['val_loss'])\n",
    "plt.xlabel('Epochs')\n",
    "plt.ylabel('Loss')\n",
    "plt.title('Model Loss')\n",
    "plt.legend(['Train Loss','Train Val_Loss'],loc='upper right')\n",
    "plt.show()"
   ]
  }
 ],
 "metadata": {
  "kernelspec": {
   "display_name": "Python 3",
   "language": "python",
   "name": "python3"
  },
  "language_info": {
   "codemirror_mode": {
    "name": "ipython",
    "version": 3
   },
   "file_extension": ".py",
   "mimetype": "text/x-python",
   "name": "python",
   "nbconvert_exporter": "python",
   "pygments_lexer": "ipython3",
   "version": "3.11.4"
  },
  "orig_nbformat": 4
 },
 "nbformat": 4,
 "nbformat_minor": 2
}
